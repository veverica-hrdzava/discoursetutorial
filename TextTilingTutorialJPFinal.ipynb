{
 "cells": [
  {
   "cell_type": "markdown",
   "metadata": {},
   "source": [
    "# Discourse Tutorial"
   ]
  },
  {
   "cell_type": "markdown",
   "metadata": {},
   "source": [
    "Before beginning, make sure that NLTK, NumPy, and Matplotlib have been installed. Please see the [tutorial](https://veverica-hrdzava.github.io/discoursetutorial/) for directions on how to do this as well as an in-depth walkthrough of all the below steps."
   ]
  },
  {
   "cell_type": "markdown",
   "metadata": {},
   "source": [
    "# TextTiling"
   ]
  },
  {
   "cell_type": "markdown",
   "metadata": {},
   "source": [
    "For `TextTiling` we will need to import `texttiling` from NLTK and `PyLab` from Matplotlib. For `WindowDiff`, we will need to import `segmentation` from NLTK."
   ]
  },
  {
   "cell_type": "code",
   "execution_count": 1,
   "metadata": {},
   "outputs": [],
   "source": [
    "from nltk.tokenize import texttiling\n",
    "from matplotlib import pylab\n",
    "from nltk.metrics import segmentation"
   ]
  },
  {
   "cell_type": "markdown",
   "metadata": {},
   "source": [
    "Before running, text will have to be preprocessed to ensure it has paragraph breaks, or an error will result. The below function cleans up the text we will be using in this tutorial, removing excess newlines."
   ]
  },
  {
   "cell_type": "code",
   "execution_count": 2,
   "metadata": {},
   "outputs": [],
   "source": [
    "def preprocess(text):\n",
    "    no_ex_lines = ''\n",
    "    for i in range(len(text)):\n",
    "        if i < len(text)-1:\n",
    "            if text[i] == '\\n' and ch1[i+1] == '\\n':\n",
    "                no_ex_lines += '@'\n",
    "            elif ch1[i] == '\\n' and ch1[i+1] != '\\n':\n",
    "                no_ex_lines += ' '\n",
    "            else:\n",
    "                no_ex_lines += ch1[i]\n",
    "        else:\n",
    "            no_ex_lines += ch1[i]\n",
    "\n",
    "    preprocessed = ''\n",
    "    for i in no_ex_lines:\n",
    "        if i == '@':\n",
    "            preprocessed += '\\n\\n'\n",
    "        else:\n",
    "            preprocessed += i\n",
    "    return preprocessed"
   ]
  },
  {
   "cell_type": "markdown",
   "metadata": {},
   "source": [
    "Adjust line 1 below so that it directs to the path of the .txt file on your computer. We will be looking at just the first chapter of this book and will preprocess it using the above function."
   ]
  },
  {
   "cell_type": "code",
   "execution_count": 3,
   "metadata": {},
   "outputs": [],
   "source": [
    "book  = open('/histeng.txt')\n",
    "file = book.read()\n",
    "book.close()\n",
    "\n",
    "ch1 = file[950:22157]"
   ]
  },
  {
   "cell_type": "code",
   "execution_count": 4,
   "metadata": {},
   "outputs": [],
   "source": [
    "text = preprocess(ch1)"
   ]
  },
  {
   "cell_type": "markdown",
   "metadata": {},
   "source": [
    "Two `TextTiling` objects will be instantiated, one for each of the `demo_mode` parameter settings. We will print the output of the `tokenize()` function of the second instantiation, which will give us the segments of the document."
   ]
  },
  {
   "cell_type": "code",
   "execution_count": 5,
   "metadata": {},
   "outputs": [
    {
     "name": "stdout",
     "output_type": "stream",
     "text": [
      "1 : If you look at a Map of the World, you will see, in the left-hand upper corner of the Eastern Hemisphere, two Islands lying in the sea.  They are England and Scotland, and Ireland.  England and Scotland form the greater part of these Islands.  Ireland is the next in size.  The little neighbouring islands, which are so small upon the Map as to be mere dots, are chiefly little bits of Scotland,--broken off, I dare say, in the course of a great length of time, by the power of the restless water.\n",
      "\n",
      " In the old days, a long, long while ago, before Our Saviour was born on earth and lay asleep in a manger, these Islands were in the same place, and the stormy sea roared round them, just as it roars now.  But the sea was not alive, then, with great ships and brave sailors, sailing to and from all parts of the world.  It was very lonely.  The Islands lay solitary, in the great expanse of water.  The foaming waves dashed against their cliffs, and the bleak winds blew over their forests; but the winds and waves brought no adventurers to land upon the Islands, and the savage Islanders knew nothing of the rest of the world, and the rest of the world knew nothing of them. \n",
      "\n",
      "2 : \n",
      "\n",
      " It is supposed that the Phoenicians, who were an ancient people, famous for carrying on trade, came in ships to these Islands, and found that they produced tin and lead; both very useful things, as you know, and both produced to this very hour upon the sea-coast. The most celebrated tin mines in Cornwall are, still, close to the sea.  One of them, which I have seen, is so close to it that it is hollowed out underneath the ocean; and the miners say, that in stormy weather, when they are at work down in that deep place, they can hear the noise of the waves thundering above their heads.  So, the Phoenicians, coasting about the Islands, would come, without much difficulty, to where the tin and lead were. \n",
      "\n",
      "3 : \n",
      "\n",
      " The Phoenicians traded with the Islanders for these metals, and gave the Islanders some other useful things in exchange.  The Islanders were, at first, poor savages, going almost naked, or only dressed in the rough skins of beasts, and staining their bodies, as other savages do, with coloured earths and the juices of plants.  But the Phoenicians, sailing over to the opposite coasts of France and Belgium, and saying to the people there, 'We have been to those white cliffs across the water, which you can see in fine weather, and from that country, which is called BRITAIN, we bring this tin and lead,' tempted some of the French and Belgians to come over also.  These people settled themselves on the south coast of England, which is now called Kent; and, although they were a rough people too, they taught the savage Britons some useful arts, and improved that part of the Islands.  It is probable that other people came over from Spain to Ireland, and settled there.\n",
      "\n",
      " Thus, by little and little, strangers became mixed with the Islanders, and the savage Britons grew into a wild, bold people; almost savage, still, especially in the interior of the country away from the sea where the foreign settlers seldom went; but hardy, brave, and strong. \n",
      "\n",
      "4 : \n",
      "\n",
      " The whole country was covered with forests, and swamps.  The greater part of it was very misty and cold.  There were no roads, no bridges, no streets, no houses that you would think deserving of the name.  A town was nothing but a collection of straw-covered huts, hidden in a thick wood, with a ditch all round, and a low wall, made of mud, or the trunks of trees placed one upon another.  The people planted little or no corn, but lived upon the flesh of their flocks and cattle.  They made no coins, but used metal rings for money.  They were clever in basket-work, as savage people often are; and they could make a coarse kind of cloth, and some very bad earthenware.  But in building fortresses they were much more clever. \n",
      "\n",
      "5 : \n",
      "\n",
      " They made boats of basket-work, covered with the skins of animals, but seldom, if ever, ventured far from the shore.  They made swords, of copper mixed with tin; but, these swords were of an awkward shape, and so soft that a heavy blow would bend one.  They made light shields, short pointed daggers, and spears--which they jerked back after they had thrown them at an enemy, by a long strip of leather fastened to the stem.  The butt-end was a rattle, to frighten an enemy's horse.  The ancient Britons, being divided into as many as thirty or forty tribes, each commanded by its own little king, were constantly fighting with one another, as savage people usually do; and they always fought with these weapons. \n",
      "\n",
      "6 : \n",
      "\n",
      " They were very fond of horses.  The standard of Kent was the picture of a white horse.  They could break them in and manage them wonderfully well. Indeed, the horses (of which they had an abundance, though they were rather small) were so well taught in those days, that they can scarcely be said to have improved since; though the men are so much wiser.  They understood, and obeyed, every word of command; and would stand still by themselves, in all the din and noise of battle, while their masters went to fight on foot.  The Britons could not have succeeded in their most remarkable art, without the aid of these sensible and trusty animals.  The art I mean, is the construction and management of war-chariots or cars, for which they have ever been celebrated in history.  Each of the best sort of these chariots, not quite breast high in front, and open at the back, contained one man to drive, and two or three others to fight--all standing up.  The horses who drew them were so well trained, that they would tear, at full gallop, over the most stony ways, and even through the woods; dashing down their masters' enemies beneath their hoofs, and cutting them to pieces with the blades of swords, or scythes, which were fastened to the wheels, and stretched out beyond the car on each side, for that cruel purpose.  In a moment, while at full speed, the horses would stop, at the driver's command.  The men within would leap out, deal blows about them with their swords like hail, leap on the horses, on the pole, spring back into the chariots anyhow; and, as soon as they were safe, the horses tore away again. \n",
      "\n",
      "7 : \n",
      "\n",
      " The Britons had a strange and terrible religion, called the Religion of the Druids.  It seems to have been brought over, in very early times indeed, from the opposite country of France, anciently called Gaul, and to have mixed up the worship of the Serpent, and of the Sun and Moon, with the worship of some of the Heathen Gods and Goddesses.  Most of its ceremonies were kept secret by the priests, the Druids, who pretended to be enchanters, and who carried magicians' wands, and wore, each of them, about his neck, what he told the ignorant people was a Serpent's egg in a golden case.  But it is certain that the Druidical ceremonies included the sacrifice of human victims, the torture of some suspected criminals, and, on particular occasions, even the burning alive, in immense wicker cages, of a number of men and animals together.  The Druid Priests had some kind of veneration for the Oak, and for the mistletoe--the same plant that we hang up in houses at Christmas Time now--when its white berries grew upon the Oak.  They met together in dark woods, which they called Sacred Groves; and there they instructed, in their mysterious arts, young men who came to them as pupils, and who sometimes stayed with them as long as twenty years. \n",
      "\n",
      "8 : \n",
      "\n",
      " These Druids built great Temples and altars, open to the sky, fragments of some of which are yet remaining.  Stonehenge, on Salisbury Plain, in Wiltshire, is the most extraordinary of these.  Three curious stones, called Kits Coty House, on Bluebell Hill, near Maidstone, in Kent, form another.  We know, from examination of the great blocks of which such buildings are made, that they could not have been raised without the aid of some ingenious machines, which are common now, but which the ancient Britons certainly did not use in making their own uncomfortable houses.  I should not wonder if the Druids, and their pupils who stayed with them twenty years, knowing more than the rest of the Britons, kept the people out of sight while they made these buildings, and then pretended that they built them by magic.  Perhaps they had a hand in the fortresses too; at all events, as they were very powerful, and very much believed in, and as they made and executed the laws, and paid no taxes, I don't wonder that they liked their trade.  And, as they persuaded the people the more Druids there were, the better off the people would be, I don't wonder that there were a good many of them.  But it is pleasant to think that there are no Druids, _now_, who go on in that way, and pretend to carry Enchanters' Wands and Serpents' Eggs--and of course there is nothing of the kind, anywhere. \n",
      "\n",
      "9 : \n",
      "\n",
      " Such was the improved condition of the ancient Britons, fifty-five years before the birth of Our Saviour, when the Romans, under their great General, Julius Caesar, were masters of all the rest of the known world. Julius Caesar had then just conquered Gaul; and hearing, in Gaul, a good deal about the opposite Island with the white cliffs, and about the bravery of the Britons who inhabited it--some of whom had been fetched over to help the Gauls in the war against him--he resolved, as he was so near, to come and conquer Britain next.\n",
      "\n",
      " So, Julius Caesar came sailing over to this Island of ours, with eighty vessels and twelve thousand men.  And he came from the French coast between Calais and Boulogne, 'because thence was the shortest passage into Britain;' just for the same reason as our steam-boats now take the same track, every day.  He expected to conquer Britain easily: but it was not such easy work as he supposed--for the bold Britons fought most bravely; and, what with not having his horse-soldiers with him (for they had been driven back by a storm), and what with having some of his vessels dashed to pieces by a high tide after they were drawn ashore, he ran great risk of being totally defeated.  However, for once that the bold Britons beat him, he beat them twice; though not so soundly but that he was very glad to accept their proposals of peace, and go away. \n",
      "\n",
      "10 : \n",
      "\n",
      " But, in the spring of the next year, he came back; this time, with eight hundred vessels and thirty thousand men.  The British tribes chose, as their general-in-chief, a Briton, whom the Romans in their Latin language called CASSIVELLAUNUS, but whose British name is supposed to have been CASWALLON.  A brave general he was, and well he and his soldiers fought the Roman army!  So well, that whenever in that war the Roman soldiers saw a great cloud of dust, and heard the rattle of the rapid British chariots, they trembled in their hearts.  Besides a number of smaller battles, there was a battle fought near Canterbury, in Kent; there was a battle fought near Chertsey, in Surrey; there was a battle fought near a marshy little town in a wood, the capital of that part of Britain which belonged to CASSIVELLAUNUS, and which was probably near what is now Saint Albans, in Hertfordshire.  However, brave CASSIVELLAUNUS had the worst of it, on the whole; though he and his men always fought like lions.  As the other British chiefs were jealous of him, and were always quarrelling with him, and with one another, he gave up, and proposed peace.  Julius Caesar was very glad to grant peace easily, and to go away again with all his remaining ships and men.  He had expected to find pearls in Britain, and he may have found a few for anything I know; but, at all events, he found delicious oysters, and I am sure he found tough Britons--of whom, I dare say, he made the same complaint as Napoleon Bonaparte the great French General did, eighteen hundred years afterwards, when he said they were such unreasonable fellows that they never knew when they were beaten.  They never _did_ know, I believe, and never will. \n",
      "\n",
      "11 : \n",
      "\n",
      " Nearly a hundred years passed on, and all that time, there was peace in Britain.  The Britons improved their towns and mode of life: became more civilised, travelled, and learnt a great deal from the Gauls and Romans. At last, the Roman Emperor, Claudius, sent AULUS PLAUTIUS, a skilful general, with a mighty force, to subdue the Island, and shortly afterwards arrived himself.  They did little; and OSTORIUS SCAPULA, another general, came.  Some of the British Chiefs of Tribes submitted. Others resolved to fight to the death.  Of these brave men, the bravest was CARACTACUS, or CARADOC, who gave battle to the Romans, with his army, among the mountains of North Wales.  'This day,' said he to his soldiers, 'decides the fate of Britain!  Your liberty, or your eternal slavery, dates from this hour.  Remember your brave ancestors, who drove the great Caesar himself across the sea!'  On hearing these words, his men, with a great shout, rushed upon the Romans.  But the strong Roman swords and armour were too much for the weaker British weapons in close conflict. The Britons lost the day.  The wife and daughter of the brave CARACTACUS were taken prisoners; his brothers delivered themselves up; he himself was betrayed into the hands of the Romans by his false and base stepmother: and they carried him, and all his family, in triumph to Rome. \n",
      "\n",
      "12 : \n",
      "\n",
      " But a great man will be great in misfortune, great in prison, great in chains.  His noble air, and dignified endurance of distress, so touched the Roman people who thronged the streets to see him, that he and his family were restored to freedom.  No one knows whether his great heart broke, and he died in Rome, or whether he ever returned to his own dear country.  English oaks have grown up from acorns, and withered away, when they were hundreds of years old--and other oaks have sprung up in their places, and died too, very aged--since the rest of the history of the brave CARACTACUS was forgotten. \n",
      "\n",
      "13 : \n",
      "\n",
      " Still, the Britons _would not_ yield.  They rose again and again, and died by thousands, sword in hand.  They rose, on every possible occasion. SUETONIUS, another Roman general, came, and stormed the Island of Anglesey (then called MONA), which was supposed to be sacred, and he burnt the Druids in their own wicker cages, by their own fires.  But, even while he was in Britain, with his victorious troops, the BRITONS rose.  Because BOADICEA, a British queen, the widow of the King of the Norfolk and Suffolk people, resisted the plundering of her property by the Romans who were settled in England, she was scourged, by order of CATUS a Roman officer; and her two daughters were shamefully insulted in her presence, and her husband's relations were made slaves.  To avenge this injury, the Britons rose, with all their might and rage.  They drove CATUS into Gaul; they laid the Roman possessions waste; they forced the Romans out of London, then a poor little town, but a trading place; they hanged, burnt, crucified, and slew by the sword, seventy thousand Romans in a few days.  SUETONIUS strengthened his army, and advanced to give them battle.  They strengthened their army, and desperately attacked his, on the field where it was strongly posted.  Before the first charge of the Britons was made, BOADICEA, in a war-chariot, with her fair hair streaming in the wind, and her injured daughters lying at her feet, drove among the troops, and cried to them for vengeance on their oppressors, the licentious Romans.  The Britons fought to the last; but they were vanquished with great slaughter, and the unhappy queen took poison. \n",
      "\n",
      "14 : \n",
      "\n",
      " Still, the spirit of the Britons was not broken.  When SUETONIUS left the country, they fell upon his troops, and retook the Island of Anglesey. AGRICOLA came, fifteen or twenty years afterwards, and retook it once more, and devoted seven years to subduing the country, especially that part of it which is now called SCOTLAND; but, its people, the Caledonians, resisted him at every inch of ground.  They fought the bloodiest battles with him; they killed their very wives and children, to prevent his making prisoners of them; they fell, fighting, in such great numbers that certain hills in Scotland are yet supposed to be vast heaps of stones piled up above their graves.  HADRIAN came, thirty years afterwards, and still they resisted him.  SEVERUS came, nearly a hundred years afterwards, and they worried his great army like dogs, and rejoiced to see them die, by thousands, in the bogs and swamps.  CARACALLA, the son and successor of SEVERUS, did the most to conquer them, for a time; but not by force of arms.  He knew how little that would do.  He yielded up a quantity of land to the Caledonians, and gave the Britons the same privileges as the Romans possessed.  There was peace, after this, for seventy years. \n",
      "\n",
      "15 : \n",
      "\n",
      " Then new enemies arose.  They were the Saxons, a fierce, sea-faring people from the countries to the North of the Rhine, the great river of Germany on the banks of which the best grapes grow to make the German wine.  They began to come, in pirate ships, to the sea-coast of Gaul and Britain, and to plunder them.  They were repulsed by CARAUSIUS, a native either of Belgium or of Britain, who was appointed by the Romans to the command, and under whom the Britons first began to fight upon the sea. But, after this time, they renewed their ravages.  A few years more, and the Scots (which was then the name for the people of Ireland), and the Picts, a northern people, began to make frequent plundering incursions into the South of Britain.  All these attacks were repeated, at intervals, during two hundred years, and through a long succession of Roman Emperors and chiefs; during all which length of time, the Britons rose against the Romans, over and over again.  At last, in the days of the Roman HONORIUS, when the Roman power all over the world was fast declining, and when Rome wanted all her soldiers at home, the Romans abandoned all hope of conquering Britain, and went away.  And still, at last, as at first, the Britons rose against them, in their old brave manner; for, a very little while before, they had turned away the Roman magistrates, and declared themselves an independent people. \n",
      "\n",
      "16 : \n",
      "\n",
      " Five hundred years had passed, since Julius Caesar's first invasion of the Island, when the Romans departed from it for ever.  In the course of that time, although they had been the cause of terrible fighting and bloodshed, they had done much to improve the condition of the Britons. They had made great military roads; they had built forts; they had taught them how to dress, and arm themselves, much better than they had ever known how to do before; they had refined the whole British way of living. AGRICOLA had built a great wall of earth, more than seventy miles long, extending from Newcastle to beyond Carlisle, for the purpose of keeping out the Picts and Scots; HADRIAN had strengthened it; SEVERUS, finding it much in want of repair, had built it afresh of stone. \n",
      "\n",
      "17 : \n",
      "\n",
      " Above all, it was in the Roman time, and by means of Roman ships, that the Christian Religion was first brought into Britain, and its people first taught the great lesson that, to be good in the sight of GOD, they must love their neighbours as themselves, and do unto others as they would be done by.  The Druids declared that it was very wicked to believe in any such thing, and cursed all the people who did believe it, very heartily.  But, when the people found that they were none the better for the blessings of the Druids, and none the worse for the curses of the Druids, but, that the sun shone and the rain fell without consulting the Druids at all, they just began to think that the Druids were mere men, and that it signified very little whether they cursed or blessed.  After which, the pupils of the Druids fell off greatly in numbers, and the Druids took to other trades. \n",
      "\n",
      "18 : \n",
      "\n",
      " Thus I have come to the end of the Roman time in England.  It is but little that is known of those five hundred years; but some remains of them are still found.  Often, when labourers are digging up the ground, to make foundations for houses or churches, they light on rusty money that once belonged to the Romans.  Fragments of plates from which they ate, of goblets from which they drank, and of pavement on which they trod, are discovered among the earth that is broken by the plough, or the dust that is crumbled by the gardener's spade.  Wells that the Romans sunk, still yield water; roads that the Romans made, form part of our highways.  In some old battle-fields, British spear-heads and Roman armour have been found, mingled together in decay, as they fell in the thick pressure of the fight.  Traces of Roman camps overgrown with grass, and of mounds that are the burial-places of heaps of Britons, are to be seen in almost all parts of the country.  Across the bleak moors of Northumberland, the wall of SEVERUS, overrun with moss and weeds, still stretches, a strong ruin; and the shepherds and their dogs lie sleeping on it in the summer weather.  On Salisbury Plain, Stonehenge yet stands: a monument of the earlier time when the Roman name was unknown in Britain, and when the Druids, with their best magic wands, could not have written it in the sands of the wild sea-shore. \n",
      "\n"
     ]
    }
   ],
   "source": [
    "text_tile = texttiling.TextTilingTokenizer(w=30,k=5,demo_mode=True)\n",
    "text_tile_chunk = texttiling.TextTilingTokenizer(w=30,k=5,demo_mode=False)\n",
    "\n",
    "sections = text_tile_chunk.tokenize(text)\n",
    "\n",
    "#Print sections\n",
    "for i in range(len(sections)):\n",
    "    print(i+1,':',sections[i],'\\n')"
   ]
  },
  {
   "cell_type": "markdown",
   "metadata": {},
   "source": [
    "We will then look at a graphic representation of the gap scores for the pseudosentence breaks by calling `tokenize` on the first instantiation of `TextTile`."
   ]
  },
  {
   "cell_type": "code",
   "execution_count": 6,
   "metadata": {},
   "outputs": [
    {
     "data": {
      "image/png": "[encoded data removed]",
      "text/plain": [
       "<Figure size 432x288 with 1 Axes>"
      ]
     },
     "metadata": {
      "needs_background": "light"
     },
     "output_type": "display_data"
    }
   ],
   "source": [
    "#Code below adapted from NLTK Demo\n",
    "gap_scores, smoothed_g_scores, depth_scores, breaks = text_tile.tokenize(text)\n",
    "pylab.xlabel(\"Sentence Gap index\")\n",
    "pylab.ylabel(\"Gap Scores\")\n",
    "pylab.plot(range(len(gap_scores)), gap_scores, label=\"Gap Scores\")\n",
    "pylab.plot(range(len(smoothed_g_scores)), smoothed_g_scores, label=\"Smoothed Gap scores\")\n",
    "pylab.plot(range(len(depth_scores)), depth_scores, label=\"Depth scores\")\n",
    "pylab.stem(range(len(breaks)), breaks,use_line_collection=True)\n",
    "pylab.legend()\n",
    "pylab.show()"
   ]
  },
  {
   "cell_type": "markdown",
   "metadata": {},
   "source": [
    "We will then print out a list of all pseudosentence boundaries, with a value of `0` or `1`, corresponding to whether a topic boundary was assessed. We will also print a list of all instances of `1` with numbers that will correspond to the pseudosentences, which we will print below."
   ]
  },
  {
   "cell_type": "code",
   "execution_count": 7,
   "metadata": {},
   "outputs": [
    {
     "name": "stdout",
     "output_type": "stream",
     "text": [
      "[0, 0, 0, 0, 0, 0, 1, 0, 0, 0, 0, 0, 0, 0, 1, 0, 0, 0, 0, 1, 0, 0, 0, 0, 0, 1, 0, 0, 0, 1, 0, 0, 0, 0, 0, 0, 0, 1, 0, 0, 0, 0, 1, 0, 0, 0, 1, 0, 0, 0, 0, 0, 0, 1, 0, 0, 0, 0, 0, 0, 0, 1, 0, 0, 0, 0, 0, 1, 0, 0, 0, 0, 1, 0, 0, 0, 0, 0, 1, 0, 0, 0, 1, 0, 0, 0, 0, 0, 0, 0, 0, 1, 0, 0, 0, 0, 0, 1, 0, 0, 0, 0, 0, 1, 0, 0, 0, 1, 0, 0, 0, 0, 0, 1, 0, 0, 0, 0, 1, 0, 0, 0, 0, 0, 0]\n",
      "[7, 15, 20, 26, 30, 38, 43, 47, 54, 62, 68, 73, 79, 83, 92, 98, 104, 108, 114, 119]\n"
     ]
    }
   ],
   "source": [
    "print(breaks)\n",
    "\n",
    "pseudo_breaks = []\n",
    "for i in range(len(breaks)):\n",
    "    if breaks[i] == 1:\n",
    "        pseudo_breaks.append(i+1)\n",
    "print(pseudo_breaks)"
   ]
  },
  {
   "cell_type": "markdown",
   "metadata": {},
   "source": [
    "# WindowDiff"
   ]
  },
  {
   "cell_type": "markdown",
   "metadata": {},
   "source": [
    "Before starting with `WindowDiff`, we will print the pseudosentences, so that we are able to compare the determination of the `TextTiling` with human segmentation judgements."
   ]
  },
  {
   "cell_type": "code",
   "execution_count": 8,
   "metadata": {},
   "outputs": [
    {
     "name": "stdout",
     "output_type": "stream",
     "text": [
      "Pseudosentence #: 1\n",
      "If you look at a Map of the World you will see in the left hand upper corner of the Eastern Hemisphere two Islands lying in the sea They are \n",
      "Pseudosentence #: 2\n",
      "England and Scotland and Ireland England and Scotland form the greater part of these Islands Ireland is the next in size The little neighbouring islands which are so small upon \n",
      "Pseudosentence #: 3\n",
      "the Map as to be mere dots are chiefly little bits of Scotland broken off I dare say in the course of a great length of time by the power \n",
      "Pseudosentence #: 4\n",
      "of the restless water In the old days a long long while ago before Our Saviour was born on earth and lay asleep in a manger these Islands were in \n",
      "Pseudosentence #: 5\n",
      "the same place and the stormy sea roared round them just as it roars now But the sea was not alive then with great ships and brave sailors sailing to \n",
      "Pseudosentence #: 6\n",
      "and from all parts of the world It was very lonely The Islands lay solitary in the great expanse of water The foaming waves dashed against their cliffs and the \n",
      "Pseudosentence #: 7\n",
      "bleak winds blew over their forests but the winds and waves brought no adventurers to land upon the Islands and the savage Islanders knew nothing of the rest of the \n",
      "Pseudosentence #: 8\n",
      "world and the rest of the world knew nothing of them It is supposed that the Phoenicians who were an ancient people famous for carrying on trade came in ships \n",
      "Pseudosentence #: 9\n",
      "to these Islands and found that they produced tin and lead both very useful things as you know and both produced to this very hour upon the sea coast The \n",
      "Pseudosentence #: 10\n",
      "most celebrated tin mines in Cornwall are still close to the sea One of them which I have seen is so close to it that it is hollowed out underneath \n",
      "Pseudosentence #: 11\n",
      "the ocean and the miners say that in stormy weather when they are at work down in that deep place they can hear the noise of the waves thundering above \n",
      "Pseudosentence #: 12\n",
      "their heads So the Phoenicians coasting about the Islands would come without much difficulty to where the tin and lead were The Phoenicians traded with the Islanders for these metals \n",
      "Pseudosentence #: 13\n",
      "and gave the Islanders some other useful things in exchange The Islanders were at first poor savages going almost naked or only dressed in the rough skins of beasts and \n",
      "Pseudosentence #: 14\n",
      "staining their bodies as other savages do with coloured earths and the juices of plants But the Phoenicians sailing over to the opposite coasts of France and Belgium and saying \n",
      "Pseudosentence #: 15\n",
      "to the people there We have been to those white cliffs across the water which you can see in fine weather and from that country which is called BRITAIN we \n",
      "Pseudosentence #: 16\n",
      "bring this tin and lead tempted some of the French and Belgians to come over also These people settled themselves on the south coast of England which is now called \n",
      "Pseudosentence #: 17\n",
      "Kent and although they were a rough people too they taught the savage Britons some useful arts and improved that part of the Islands It is probable that other people \n",
      "Pseudosentence #: 18\n",
      "came over from Spain to Ireland and settled there Thus by little and little strangers became mixed with the Islanders and the savage Britons grew into a wild bold people \n",
      "Pseudosentence #: 19\n",
      "almost savage still especially in the interior of the country away from the sea where the foreign settlers seldom went but hardy brave and strong The whole country was covered \n",
      "Pseudosentence #: 20\n",
      "with forests and swamps The greater part of it was very misty and cold There were no roads no bridges no streets no houses that you would think deserving of \n",
      "Pseudosentence #: 21\n",
      "the name A town was nothing but a collection of straw covered huts hidden in a thick wood with a ditch all round and a low wall made of mud \n",
      "Pseudosentence #: 22\n",
      "or the trunks of trees placed one upon another The people planted little or no corn but lived upon the flesh of their flocks and cattle They made no coins \n",
      "Pseudosentence #: 23\n",
      "but used metal rings for money They were clever in basket work as savage people often are and they could make a coarse kind of cloth and some very bad \n",
      "Pseudosentence #: 24\n",
      "earthenware But in building fortresses they were much more clever They made boats of basket work covered with the skins of animals but seldom if ever ventured far from the \n",
      "Pseudosentence #: 25\n",
      "shore They made swords of copper mixed with tin but these swords were of an awkward shape and so soft that a heavy blow would bend one They made light \n",
      "Pseudosentence #: 26\n",
      "shields short pointed daggers and spears which they jerked back after they had thrown them at an enemy by a long strip of leather fastened to the stem The butt \n",
      "Pseudosentence #: 27\n",
      "end was a rattle to frighten an enemy s horse The ancient Britons being divided into as many as thirty or forty tribes each commanded by its own little king \n",
      "Pseudosentence #: 28\n",
      "were constantly fighting with one another as savage people usually do and they always fought with these weapons They were very fond of horses The standard of Kent was the \n",
      "Pseudosentence #: 29\n",
      "picture of a white horse They could break them in and manage them wonderfully well Indeed the horses of which they had an abundance though they were rather small were \n",
      "Pseudosentence #: 30\n",
      "so well taught in those days that they can scarcely be said to have improved since though the men are so much wiser They understood and obeyed every word of \n",
      "Pseudosentence #: 31\n",
      "command and would stand still by themselves in all the din and noise of battle while their masters went to fight on foot The Britons could not have succeeded in \n",
      "Pseudosentence #: 32\n",
      "their most remarkable art without the aid of these sensible and trusty animals The art I mean is the construction and management of war chariots or cars for which they \n",
      "Pseudosentence #: 33\n",
      "have ever been celebrated in history Each of the best sort of these chariots not quite breast high in front and open at the back contained one man to drive \n",
      "Pseudosentence #: 34\n",
      "and two or three others to fight all standing up The horses who drew them were so well trained that they would tear at full gallop over the most stony \n",
      "Pseudosentence #: 35\n",
      "ways and even through the woods dashing down their masters enemies beneath their hoofs and cutting them to pieces with the blades of swords or scythes which were fastened to \n",
      "Pseudosentence #: 36\n",
      "the wheels and stretched out beyond the car on each side for that cruel purpose In a moment while at full speed the horses would stop at the driver s \n",
      "Pseudosentence #: 37\n",
      "command The men within would leap out deal blows about them with their swords like hail leap on the horses on the pole spring back into the chariots anyhow and \n",
      "Pseudosentence #: 38\n",
      "as soon as they were safe the horses tore away again The Britons had a strange and terrible religion called the Religion of the Druids It seems to have been \n",
      "Pseudosentence #: 39\n",
      "brought over in very early times indeed from the opposite country of France anciently called Gaul and to have mixed up the worship of the Serpent and of the Sun \n",
      "Pseudosentence #: 40\n",
      "and Moon with the worship of some of the Heathen Gods and Goddesses Most of its ceremonies were kept secret by the priests the Druids who pretended to be enchanters \n",
      "Pseudosentence #: 41\n",
      "and who carried magicians wands and wore each of them about his neck what he told the ignorant people was a Serpent s egg in a golden case But it \n",
      "Pseudosentence #: 42\n",
      "is certain that the Druidical ceremonies included the sacrifice of human victims the torture of some suspected criminals and on particular occasions even the burning alive in immense wicker cages \n",
      "Pseudosentence #: 43\n",
      "of a number of men and animals together The Druid Priests had some kind of veneration for the Oak and for the mistletoe the same plant that we hang up \n",
      "Pseudosentence #: 44\n",
      "in houses at Christmas Time now when its white berries grew upon the Oak They met together in dark woods which they called Sacred Groves and there they instructed in \n",
      "Pseudosentence #: 45\n",
      "their mysterious arts young men who came to them as pupils and who sometimes stayed with them as long as twenty years These Druids built great Temples and altars open \n",
      "Pseudosentence #: 46\n",
      "to the sky fragments of some of which are yet remaining Stonehenge on Salisbury Plain in Wiltshire is the most extraordinary of these Three curious stones called Kits Coty House \n",
      "Pseudosentence #: 47\n",
      "on Bluebell Hill near Maidstone in Kent form another We know from examination of the great blocks of which such buildings are made that they could not have been raised \n",
      "Pseudosentence #: 48\n",
      "without the aid of some ingenious machines which are common now but which the ancient Britons certainly did not use in making their own uncomfortable houses I should not wonder \n",
      "Pseudosentence #: 49\n",
      "if the Druids and their pupils who stayed with them twenty years knowing more than the rest of the Britons kept the people out of sight while they made these \n",
      "Pseudosentence #: 50\n",
      "buildings and then pretended that they built them by magic Perhaps they had a hand in the fortresses too at all events as they were very powerful and very much \n",
      "Pseudosentence #: 51\n",
      "believed in and as they made and executed the laws and paid no taxes I don t wonder that they liked their trade And as they persuaded the people the \n",
      "Pseudosentence #: 52\n",
      "more Druids there were the better off the people would be I don t wonder that there were a good many of them But it is pleasant to think that \n",
      "Pseudosentence #: 53\n",
      "there are no Druids _now_ who go on in that way and pretend to carry Enchanters Wands and Serpents Eggs and of course there is nothing of the kind anywhere \n",
      "Pseudosentence #: 54\n",
      "Such was the improved condition of the ancient Britons fifty five years before the birth of Our Saviour when the Romans under their great General Julius Caesar were masters of \n",
      "Pseudosentence #: 55\n",
      "all the rest of the known world Julius Caesar had then just conquered Gaul and hearing in Gaul a good deal about the opposite Island with the white cliffs and \n",
      "Pseudosentence #: 56\n",
      "about the bravery of the Britons who inhabited it some of whom had been fetched over to help the Gauls in the war against him he resolved as he was \n",
      "Pseudosentence #: 57\n",
      "so near to come and conquer Britain next So Julius Caesar came sailing over to this Island of ours with eighty vessels and twelve thousand men And he came from \n",
      "Pseudosentence #: 58\n",
      "the French coast between Calais and Boulogne because thence was the shortest passage into Britain just for the same reason as our steam boats now take the same track every \n",
      "Pseudosentence #: 59\n",
      "day He expected to conquer Britain easily but it was not such easy work as he supposed for the bold Britons fought most bravely and what with not having his \n",
      "Pseudosentence #: 60\n",
      "horse soldiers with him for they had been driven back by a storm and what with having some of his vessels dashed to pieces by a high tide after they \n",
      "Pseudosentence #: 61\n",
      "were drawn ashore he ran great risk of being totally defeated However for once that the bold Britons beat him he beat them twice though not so soundly but that \n",
      "Pseudosentence #: 62\n",
      "he was very glad to accept their proposals of peace and go away But in the spring of the next year he came back this time with eight hundred vessels \n",
      "Pseudosentence #: 63\n",
      "and thirty thousand men The British tribes chose as their general in chief a Briton whom the Romans in their Latin language called CASSIVELLAUNUS but whose British name is supposed \n",
      "Pseudosentence #: 64\n",
      "to have been CASWALLON A brave general he was and well he and his soldiers fought the Roman army So well that whenever in that war the Roman soldiers saw \n",
      "Pseudosentence #: 65\n",
      "a great cloud of dust and heard the rattle of the rapid British chariots they trembled in their hearts Besides a number of smaller battles there was a battle fought \n",
      "Pseudosentence #: 66\n",
      "near Canterbury in Kent there was a battle fought near Chertsey in Surrey there was a battle fought near a marshy little town in a wood the capital of that \n",
      "Pseudosentence #: 67\n",
      "part of Britain which belonged to CASSIVELLAUNUS and which was probably near what is now Saint Albans in Hertfordshire However brave CASSIVELLAUNUS had the worst of it on the whole \n",
      "Pseudosentence #: 68\n",
      "though he and his men always fought like lions As the other British chiefs were jealous of him and were always quarrelling with him and with one another he gave \n",
      "Pseudosentence #: 69\n",
      "up and proposed peace Julius Caesar was very glad to grant peace easily and to go away again with all his remaining ships and men He had expected to find \n",
      "Pseudosentence #: 70\n",
      "pearls in Britain and he may have found a few for anything I know but at all events he found delicious oysters and I am sure he found tough Britons \n",
      "Pseudosentence #: 71\n",
      "of whom I dare say he made the same complaint as Napoleon Bonaparte the great French General did eighteen hundred years afterwards when he said they were such unreasonable fellows \n",
      "Pseudosentence #: 72\n",
      "that they never knew when they were beaten They never _did_ know I believe and never will Nearly a hundred years passed on and all that time there was peace \n",
      "Pseudosentence #: 73\n",
      "in Britain The Britons improved their towns and mode of life became more civilised travelled and learnt a great deal from the Gauls and Romans At last the Roman Emperor \n",
      "Pseudosentence #: 74\n",
      "Claudius sent AULUS PLAUTIUS a skilful general with a mighty force to subdue the Island and shortly afterwards arrived himself They did little and OSTORIUS SCAPULA another general came Some \n",
      "Pseudosentence #: 75\n",
      "of the British Chiefs of Tribes submitted Others resolved to fight to the death Of these brave men the bravest was CARACTACUS or CARADOC who gave battle to the Romans \n",
      "Pseudosentence #: 76\n",
      "with his army among the mountains of North Wales This day said he to his soldiers decides the fate of Britain Your liberty or your eternal slavery dates from this \n",
      "Pseudosentence #: 77\n",
      "hour Remember your brave ancestors who drove the great Caesar himself across the sea On hearing these words his men with a great shout rushed upon the Romans But the \n",
      "Pseudosentence #: 78\n",
      "strong Roman swords and armour were too much for the weaker British weapons in close conflict The Britons lost the day The wife and daughter of the brave CARACTACUS were \n",
      "Pseudosentence #: 79\n",
      "taken prisoners his brothers delivered themselves up he himself was betrayed into the hands of the Romans by his false and base stepmother and they carried him and all his \n",
      "Pseudosentence #: 80\n",
      "family in triumph to Rome But a great man will be great in misfortune great in prison great in chains His noble air and dignified endurance of distress so touched \n",
      "Pseudosentence #: 81\n",
      "the Roman people who thronged the streets to see him that he and his family were restored to freedom No one knows whether his great heart broke and he died \n",
      "Pseudosentence #: 82\n",
      "in Rome or whether he ever returned to his own dear country English oaks have grown up from acorns and withered away when they were hundreds of years old and \n",
      "Pseudosentence #: 83\n",
      "other oaks have sprung up in their places and died too very aged since the rest of the history of the brave CARACTACUS was forgotten Still the Britons _would not_ \n",
      "Pseudosentence #: 84\n",
      "yield They rose again and again and died by thousands sword in hand They rose on every possible occasion SUETONIUS another Roman general came and stormed the Island of Anglesey \n",
      "Pseudosentence #: 85\n",
      "then called MONA which was supposed to be sacred and he burnt the Druids in their own wicker cages by their own fires But even while he was in Britain \n",
      "Pseudosentence #: 86\n",
      "with his victorious troops the BRITONS rose Because BOADICEA a British queen the widow of the King of the Norfolk and Suffolk people resisted the plundering of her property by \n",
      "Pseudosentence #: 87\n",
      "the Romans who were settled in England she was scourged by order of CATUS a Roman officer and her two daughters were shamefully insulted in her presence and her husband \n",
      "Pseudosentence #: 88\n",
      "s relations were made slaves To avenge this injury the Britons rose with all their might and rage They drove CATUS into Gaul they laid the Roman possessions waste they \n",
      "Pseudosentence #: 89\n",
      "forced the Romans out of London then a poor little town but a trading place they hanged burnt crucified and slew by the sword seventy thousand Romans in a few \n",
      "Pseudosentence #: 90\n",
      "days SUETONIUS strengthened his army and advanced to give them battle They strengthened their army and desperately attacked his on the field where it was strongly posted Before the first \n",
      "Pseudosentence #: 91\n",
      "charge of the Britons was made BOADICEA in a war chariot with her fair hair streaming in the wind and her injured daughters lying at her feet drove among the \n",
      "Pseudosentence #: 92\n",
      "troops and cried to them for vengeance on their oppressors the licentious Romans The Britons fought to the last but they were vanquished with great slaughter and the unhappy queen \n",
      "Pseudosentence #: 93\n",
      "took poison Still the spirit of the Britons was not broken When SUETONIUS left the country they fell upon his troops and retook the Island of Anglesey AGRICOLA came fifteen \n",
      "Pseudosentence #: 94\n",
      "or twenty years afterwards and retook it once more and devoted seven years to subduing the country especially that part of it which is now called SCOTLAND but its people \n",
      "Pseudosentence #: 95\n",
      "the Caledonians resisted him at every inch of ground They fought the bloodiest battles with him they killed their very wives and children to prevent his making prisoners of them \n",
      "Pseudosentence #: 96\n",
      "they fell fighting in such great numbers that certain hills in Scotland are yet supposed to be vast heaps of stones piled up above their graves HADRIAN came thirty years \n",
      "Pseudosentence #: 97\n",
      "afterwards and still they resisted him SEVERUS came nearly a hundred years afterwards and they worried his great army like dogs and rejoiced to see them die by thousands in \n",
      "Pseudosentence #: 98\n",
      "the bogs and swamps CARACALLA the son and successor of SEVERUS did the most to conquer them for a time but not by force of arms He knew how little \n",
      "Pseudosentence #: 99\n",
      "that would do He yielded up a quantity of land to the Caledonians and gave the Britons the same privileges as the Romans possessed There was peace after this for \n",
      "Pseudosentence #: 100\n",
      "seventy years Then new enemies arose They were the Saxons a fierce sea faring people from the countries to the North of the Rhine the great river of Germany on \n",
      "Pseudosentence #: 101\n",
      "the banks of which the best grapes grow to make the German wine They began to come in pirate ships to the sea coast of Gaul and Britain and to \n",
      "Pseudosentence #: 102\n",
      "plunder them They were repulsed by CARAUSIUS a native either of Belgium or of Britain who was appointed by the Romans to the command and under whom the Britons first \n",
      "Pseudosentence #: 103\n",
      "began to fight upon the sea But after this time they renewed their ravages A few years more and the Scots which was then the name for the people of \n",
      "Pseudosentence #: 104\n",
      "Ireland and the Picts a northern people began to make frequent plundering incursions into the South of Britain All these attacks were repeated at intervals during two hundred years and \n",
      "Pseudosentence #: 105\n",
      "through a long succession of Roman Emperors and chiefs during all which length of time the Britons rose against the Romans over and over again At last in the days \n",
      "Pseudosentence #: 106\n",
      "of the Roman HONORIUS when the Roman power all over the world was fast declining and when Rome wanted all her soldiers at home the Romans abandoned all hope of \n",
      "Pseudosentence #: 107\n",
      "conquering Britain and went away And still at last as at first the Britons rose against them in their old brave manner for a very little while before they had \n",
      "Pseudosentence #: 108\n",
      "turned away the Roman magistrates and declared themselves an independent people Five hundred years had passed since Julius Caesar s first invasion of the Island when the Romans departed from \n",
      "Pseudosentence #: 109\n",
      "it for ever In the course of that time although they had been the cause of terrible fighting and bloodshed they had done much to improve the condition of the \n",
      "Pseudosentence #: 110\n",
      "Britons They had made great military roads they had built forts they had taught them how to dress and arm themselves much better than they had ever known how to \n",
      "Pseudosentence #: 111\n",
      "do before they had refined the whole British way of living AGRICOLA had built a great wall of earth more than seventy miles long extending from Newcastle to beyond Carlisle \n",
      "Pseudosentence #: 112\n",
      "for the purpose of keeping out the Picts and Scots HADRIAN had strengthened it SEVERUS finding it much in want of repair had built it afresh of stone Above all \n",
      "Pseudosentence #: 113\n",
      "it was in the Roman time and by means of Roman ships that the Christian Religion was first brought into Britain and its people first taught the great lesson that \n",
      "Pseudosentence #: 114\n",
      "to be good in the sight of GOD they must love their neighbours as themselves and do unto others as they would be done by The Druids declared that it \n",
      "Pseudosentence #: 115\n",
      "was very wicked to believe in any such thing and cursed all the people who did believe it very heartily But when the people found that they were none the \n",
      "Pseudosentence #: 116\n",
      "better for the blessings of the Druids and none the worse for the curses of the Druids but that the sun shone and the rain fell without consulting the Druids \n",
      "Pseudosentence #: 117\n",
      "at all they just began to think that the Druids were mere men and that it signified very little whether they cursed or blessed After which the pupils of the \n",
      "Pseudosentence #: 118\n",
      "Druids fell off greatly in numbers and the Druids took to other trades Thus I have come to the end of the Roman time in England It is but little \n",
      "Pseudosentence #: 119\n",
      "that is known of those five hundred years but some remains of them are still found Often when labourers are digging up the ground to make foundations for houses or \n",
      "Pseudosentence #: 120\n",
      "churches they light on rusty money that once belonged to the Romans Fragments of plates from which they ate of goblets from which they drank and of pavement on which \n",
      "Pseudosentence #: 121\n",
      "they trod are discovered among the earth that is broken by the plough or the dust that is crumbled by the gardener s spade Wells that the Romans sunk still \n",
      "Pseudosentence #: 122\n",
      "yield water roads that the Romans made form part of our highways In some old battle fields British spear heads and Roman armour have been found mingled together in decay \n",
      "Pseudosentence #: 123\n",
      "as they fell in the thick pressure of the fight Traces of Roman camps overgrown with grass and of mounds that are the burial places of heaps of Britons are \n",
      "Pseudosentence #: 124\n",
      "to be seen in almost all parts of the country Across the bleak moors of Northumberland the wall of SEVERUS overrun with moss and weeds still stretches a strong ruin \n",
      "Pseudosentence #: 125\n",
      "and the shepherds and their dogs lie sleeping on it in the summer weather On Salisbury Plain Stonehenge yet stands a monument of the earlier time when the Roman name \n",
      "Pseudosentence #: 126\n",
      "was unknown in Britain and when the Druids with their best magic wands could not have written it in the sands of the wild sea shore \n"
     ]
    }
   ],
   "source": [
    "seqs = text_tile_chunk._divide_to_tokensequences(text)\n",
    "\n",
    "count = 1\n",
    "for i in seqs:\n",
    "    print('Pseudosentence #:',count)\n",
    "    sequence = ''\n",
    "    for i in i.__dict__['wrdindex_list']:\n",
    "        sequence += i[0]+' '\n",
    "    print(sequence)\n",
    "    count += 1"
   ]
  },
  {
   "cell_type": "markdown",
   "metadata": {},
   "source": [
    "We will then need both the pseudosentence boundaries which we produced above (`breaks`) and a hypothetical human segmentation to compare."
   ]
  },
  {
   "cell_type": "code",
   "execution_count": 9,
   "metadata": {},
   "outputs": [],
   "source": [
    "text_tiling_segs = breaks\n",
    "human_segs = [0, 0, 0, 1, 0, 0, 0, 0, 0, 0, 0, 0, 0, 0, 1, 0, 0, 0, 0, 1, 0, 0, 0, 0, 0, 1, 0, 0, 0, 1, 0, 0, 0, 0, 0, 0, 0, 1, 0, 0, 0, 0, 0, 0, 0, 0, 1, 0, 0, 0, 0, 0, 0, 1, 0, 0, 0, 0, 0, 0, 0, 1, 0, 0, 1, 0, 0, 1, 0, 1, 0, 0, 1, 0, 0, 0, 0, 0, 1, 0, 0, 0, 1, 0, 0, 0, 0, 0, 0, 0, 0, 1, 0, 0, 0, 0, 0, 1, 0, 0, 0, 0, 0, 1, 0, 0, 0, 1, 0, 0, 0, 0, 0, 1, 0, 0, 0, 0, 1, 0, 0, 0, 0, 0, 0]"
   ]
  },
  {
   "cell_type": "markdown",
   "metadata": {},
   "source": [
    "We will need to convert these lists to strings to use `WindowDiff`."
   ]
  },
  {
   "cell_type": "code",
   "execution_count": 10,
   "metadata": {},
   "outputs": [
    {
     "name": "stdout",
     "output_type": "stream",
     "text": [
      "00000010000000100001000001000100000001000010001000000100000001000001000010000010001000000001000001000001000100000100001000000\n",
      "00010000000000100001000001000100000001000000001000000100000001001001010010000010001000000001000001000001000100000100001000000\n"
     ]
    }
   ],
   "source": [
    "tt_string = ''\n",
    "h_string = ''\n",
    "for i in text_tiling_segs:\n",
    "    tt_string += str(i)\n",
    "for i in human_segs:\n",
    "    h_string += str(i)\n",
    "\n",
    "print(tt_string)\n",
    "print(h_string)"
   ]
  },
  {
   "cell_type": "markdown",
   "metadata": {},
   "source": [
    "Once these are have been converted, `WindowDiff` can be run using just one line of code."
   ]
  },
  {
   "cell_type": "code",
   "execution_count": 11,
   "metadata": {},
   "outputs": [
    {
     "data": {
      "text/plain": [
       "0.12195121951219512"
      ]
     },
     "execution_count": 11,
     "metadata": {},
     "output_type": "execute_result"
    }
   ],
   "source": [
    "segmentation.windowdiff(tt_string,h_string,3)"
   ]
  }
 ],
 "metadata": {
  "kernelspec": {
   "display_name": "Python 3",
   "language": "python",
   "name": "python3"
  },
  "language_info": {
   "codemirror_mode": {
    "name": "ipython",
    "version": 3
   },
   "file_extension": ".py",
   "mimetype": "text/x-python",
   "name": "python",
   "nbconvert_exporter": "python",
   "pygments_lexer": "ipython3",
   "version": "3.8.3"
  }
 },
 "nbformat": 4,
 "nbformat_minor": 4
}
